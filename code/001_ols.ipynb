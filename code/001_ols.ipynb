{
 "cells": [
  {
   "cell_type": "markdown",
   "id": "71273f03-c8f7-4335-8a54-baba220d132f",
   "metadata": {},
   "source": [
    "# Least Squares"
   ]
  },
  {
   "cell_type": "code",
   "execution_count": 1,
   "id": "8bb3fbe5-a1d1-424a-be13-bf41f4ffc8a8",
   "metadata": {},
   "outputs": [],
   "source": [
    "%%capture\n",
    "import stata_setup, os\n",
    "if os.name == 'nt':\n",
    "    stata_setup.config('C:/Program Files/Stata17/','mp')\n",
    "else:\n",
    "    stata_setup.config('/usr/local/stata17','mp')"
   ]
  },
  {
   "cell_type": "markdown",
   "id": "112b05b1-5300-4c59-92bc-959324880ddf",
   "metadata": {},
   "source": [
    "We load the data, rename the outcome variable, generate the indicator variables for ```year``` and ```cluster``` and define local Stata variables called ```journals``` and ```jel_imp``` which collects all relevant indicators."
   ]
  },
  {
   "cell_type": "code",
   "execution_count": 2,
   "id": "5aaeb4d9-fb3b-491f-a7e5-97c0eb812dee",
   "metadata": {},
   "outputs": [
    {
     "name": "stdout",
     "output_type": "stream",
     "text": [
      "\n"
     ]
    }
   ],
   "source": [
    "%%stata -qui\n",
    "\n",
    "use \"../data/data\", clear\n",
    "rename log_flesch_kincaid_grade_level FKG\n",
    "quietly tabulate year, generate(y_)  // años\n",
    "quietly tabulate cluster, generate(c_)\n",
    "\n",
    "local journals  ecm jpe qje res  //AER based category\n",
    "\n",
    "local jel_imp a_imp b_imp c_imp  e_imp f_imp g_imp h_imp i_imp j_imp k_imp /// \n",
    "\t\tl_imp m_imp n_imp o_imp p_imp q_imp r_imp y_imp z_imp // D JEL based case"
   ]
  },
  {
   "cell_type": "markdown",
   "id": "c4813f7c-b80b-426d-99c7-63827cbec5c9",
   "metadata": {},
   "source": [
    "Performing the OLS regression of $\\mathbf{Y}$ on $\\mathbf{X}$ using ```Stata```:"
   ]
  },
  {
   "cell_type": "code",
   "execution_count": 3,
   "id": "f734ef44-1ad6-4bb8-9e2e-b2da50145c81",
   "metadata": {},
   "outputs": [
    {
     "name": "stdout",
     "output_type": "stream",
     "text": [
      "\n"
     ]
    }
   ],
   "source": [
    "%%stata -qui\n",
    "#delimit ;\n",
    "reg FKG log_num_authors log_num_pages both_genders prop_women //comando mas impportante\n",
    "\t\t\t`journals' `jel_imp' y_2-y_20  c_2-c_215  jel_flag, vce(cluster cluster);\n",
    "matrix b_selected = e(b)[1,\"log_num_authors\"],e(b)[1,\"log_num_pages\"], \n",
    "                    e(b)[1,\"both_genders\"],e(b)[1,\"prop_women\"],e(b)[1,\"_cons\"];\n",
    "#delimit cr"
   ]
  },
  {
   "cell_type": "markdown",
   "id": "b14cd656-3f2a-4ca2-bfd8-d18ed4fcd662",
   "metadata": {},
   "source": [
    "Printing a subset of\n",
    "the OLS estimate $\\widehat{\\beta}$ (originally a $262\\times 1$ vector)"
   ]
  },
  {
   "cell_type": "code",
   "execution_count": 4,
   "id": "8dd9e41d-a408-44ae-8972-d17b92fd0dee",
   "metadata": {},
   "outputs": [
    {
     "name": "stdout",
     "output_type": "stream",
     "text": [
      "\n",
      "b_selected[1,5]\n",
      "    log_num_au~s  log_num_pa~s  both_genders    prop_women         _cons\n",
      "y1    -.00397377     .01915903     .00059809    -.01889331     2.7023992\n"
     ]
    }
   ],
   "source": [
    "%%stata\n",
    "matrix list b_selected"
   ]
  },
  {
   "cell_type": "markdown",
   "id": "bab53f34-0874-43a5-a9fa-bbed742c5ec3",
   "metadata": {},
   "source": [
    "Predicting the _fitted values_ and the _residuals_, then format them to be displayed with up to 4 decimals only along with other variables."
   ]
  },
  {
   "cell_type": "code",
   "execution_count": 5,
   "id": "b8928743-f3b4-4bc5-8fb8-bb41f5f1a997",
   "metadata": {},
   "outputs": [
    {
     "name": "stdout",
     "output_type": "stream",
     "text": [
      "\n"
     ]
    }
   ],
   "source": [
    "%%stata -qui  \n",
    "predict FKG_hat, xb\n",
    "predict double e_hat, residuals\n",
    "format FKG FKG_hat e_hat log_num_authors log_num_pages %5.4f "
   ]
  },
  {
   "cell_type": "markdown",
   "id": "ecf0c337-56c2-4c13-a18d-1611040739bf",
   "metadata": {},
   "source": [
    "These command randomly sorts the rows of the data set in memory."
   ]
  },
  {
   "cell_type": "code",
   "execution_count": 6,
   "id": "f0949101-760b-400a-8200-4b065a9e9b8f",
   "metadata": {},
   "outputs": [
    {
     "name": "stdout",
     "output_type": "stream",
     "text": [
      "\n"
     ]
    }
   ],
   "source": [
    "%%stata -qui\n",
    "#delimit ;\n",
    "set seed 42; tempvar sortorder; gen `sortorder' = runiform(); sort `sortorder';\n",
    "#delimit cr"
   ]
  },
  {
   "cell_type": "code",
   "execution_count": 7,
   "id": "a408f4e1-901d-4a2a-ad48-5a06ae5bb51e",
   "metadata": {},
   "outputs": [
    {
     "name": "stdout",
     "output_type": "stream",
     "text": [
      "\n",
      "     +------------------------------------------------------------------------+\n",
      "     |    FKG   FKG_hat     e_hat   log_n~rs   log_~ges   both_g~s   prop_w~n |\n",
      "     |------------------------------------------------------------------------|\n",
      "  1. | 2.8015    2.7041    0.0973     0.6931     3.5835          1         .5 |\n",
      "  2. | 2.7776    2.7294    0.0482     0.6931     3.7136          0          0 |\n",
      "  3. | 2.7829    2.7017    0.0812     1.0986     3.1781          0          0 |\n",
      "  4. | 2.7027    2.7289   -0.0262     0.0000     3.5553          0          0 |\n",
      "  5. | 2.8278    2.7167    0.1111     0.6931     3.3322          0          0 |\n",
      "  6. | 2.3858    2.7210   -0.3352     0.6931     3.2958          0          0 |\n",
      "  7. | 2.1718    2.7226   -0.5509     0.0000     3.8286          0          0 |\n",
      "  8. | 2.5743    2.7851   -0.2108     0.0000     3.4657          0          0 |\n",
      "  9. | 2.8177    2.8233   -0.0056     1.0986     4.1589          0          0 |\n",
      " 10. | 2.7264    2.7048    0.0216     1.3863     3.5264          1        .25 |\n",
      " 11. | 2.7479    2.7620   -0.0141     1.0986     3.6889          0          0 |\n",
      " 12. | 2.7395    2.7227    0.0168     0.6931     3.5553          1         .5 |\n",
      " 13. | 2.6606    2.7556   -0.0950     1.0986     3.1781          0          0 |\n",
      " 14. | 2.8647    2.6974    0.1673     0.0000     3.8286          0          0 |\n",
      " 15. | 3.0438    2.7470    0.2968     0.6931     3.9120          0          0 |\n",
      " 16. | 2.4055    2.7176   -0.3121     0.6931     3.4965          0          0 |\n",
      " 17. | 2.5595    2.7322   -0.1727     0.6931     3.6109          0          0 |\n",
      " 18. | 2.8343    2.6958    0.1386     1.0986     3.9890          0          0 |\n",
      " 19. | 2.8574    2.7618    0.0956     0.0000     3.2189          0          0 |\n",
      " 20. | 2.6740    2.7560   -0.0820     0.6931     3.5264          0          0 |\n",
      "     +------------------------------------------------------------------------+\n"
     ]
    }
   ],
   "source": [
    "%stata list FKG FKG_hat e_hat log_num_authors log_num_pages both_genders prop_women in 1/20, table separator(20)"
   ]
  },
  {
   "cell_type": "markdown",
   "id": "4b3034cb-32ae-4f41-bb55-bd511d334f75",
   "metadata": {},
   "source": [
    "Printing the $TSS$"
   ]
  },
  {
   "cell_type": "code",
   "execution_count": 8,
   "id": "92e381f4-a688-4314-8a1f-9302dc9b682e",
   "metadata": {},
   "outputs": [
    {
     "name": "stdout",
     "output_type": "stream",
     "text": [
      "140.32277\n"
     ]
    }
   ],
   "source": [
    "%stata display e(mss)+e(rss)"
   ]
  },
  {
   "cell_type": "markdown",
   "id": "d0be83e3-d81d-4653-96af-15951adb3ade",
   "metadata": {},
   "source": [
    "Printing the $ESS$"
   ]
  },
  {
   "cell_type": "code",
   "execution_count": 9,
   "id": "430b54e0-485a-4e7b-9ad4-91b9b6f95cff",
   "metadata": {},
   "outputs": [
    {
     "name": "stdout",
     "output_type": "stream",
     "text": [
      "12.920871\n"
     ]
    }
   ],
   "source": [
    "%stata display e(mss)"
   ]
  },
  {
   "cell_type": "markdown",
   "id": "b8991d5c-deb1-4be6-97f3-1c9ffe26d236",
   "metadata": {},
   "source": [
    "Printing the $RSS$"
   ]
  },
  {
   "cell_type": "code",
   "execution_count": 10,
   "id": "22a8b074-59ab-4d60-a70b-a17dee63836f",
   "metadata": {},
   "outputs": [
    {
     "name": "stdout",
     "output_type": "stream",
     "text": [
      "127.4019\n"
     ]
    }
   ],
   "source": [
    "%stata display e(rss)"
   ]
  },
  {
   "cell_type": "markdown",
   "id": "5bc77f7b-6103-4481-86a3-031dd4121da0",
   "metadata": {},
   "source": [
    "Printing the $R^2$"
   ]
  },
  {
   "cell_type": "code",
   "execution_count": 11,
   "id": "de91f325-8869-4d86-9e92-6a0e26878636",
   "metadata": {},
   "outputs": [
    {
     "name": "stdout",
     "output_type": "stream",
     "text": [
      ".09207965\n"
     ]
    }
   ],
   "source": [
    "%stata display e(mss)/(e(mss)+e(rss))"
   ]
  },
  {
   "cell_type": "markdown",
   "id": "1dbd53f0-3ac2-479a-a702-7aa04c4fd3a0",
   "metadata": {},
   "source": [
    "## Leverage Values & LOO Regression"
   ]
  },
  {
   "cell_type": "markdown",
   "id": "2debf605-b89f-4124-8e87-ef6b7372bc9b",
   "metadata": {},
   "source": [
    "Extracting the leverage values"
   ]
  },
  {
   "cell_type": "code",
   "execution_count": 12,
   "id": "ba35b13a-6d68-47ae-934c-efb4c9e42ac8",
   "metadata": {},
   "outputs": [
    {
     "name": "stdout",
     "output_type": "stream",
     "text": [
      "\n"
     ]
    }
   ],
   "source": [
    "%%stata -qui\n",
    "#delimit ;\n",
    "reg FKG log_num_authors  log_num_pages both_genders prop_women\n",
    "\t\t\t`journals' `jel_imp' y_2-y_20  c_2-c_215  jel_flag;\n",
    "#delimit cr\n",
    "predict h, leverage\n",
    "summarize h"
   ]
  },
  {
   "cell_type": "markdown",
   "id": "0706d353-9c71-436d-a111-fa372b5a6f61",
   "metadata": {},
   "source": [
    "Checking that $0\\le h_{ii} \\le 1$"
   ]
  },
  {
   "cell_type": "code",
   "execution_count": 13,
   "id": "756f6265-54b0-4e01-ad9f-003ed7c2d5ed",
   "metadata": {},
   "outputs": [
    {
     "name": "stdout",
     "output_type": "stream",
     "text": [
      "\n",
      ". display \"Min: \" r(min)\n",
      "Min: .00481838\n",
      "\n",
      ". display \"Max: \" r(max)\n",
      "Max: 1\n",
      "\n",
      ". \n"
     ]
    }
   ],
   "source": [
    "%%stata\n",
    "display \"Min: \" r(min)\n",
    "display \"Max: \" r(max)"
   ]
  },
  {
   "cell_type": "markdown",
   "id": "d90e3286-43a0-4a94-a265-9776f674635a",
   "metadata": {},
   "source": [
    "Checking that $h_{ii}\\ge 1/n$ by checking that $\\min_{i=1,\\ldots,n}(h_{ii})\\ge 1/n$"
   ]
  },
  {
   "cell_type": "code",
   "execution_count": 14,
   "id": "e241d384",
   "metadata": {},
   "outputs": [
    {
     "name": "stdout",
     "output_type": "stream",
     "text": [
      "\n",
      ". local sample_size = r(N)\n",
      "\n",
      ". local reciprocal = 1 / `sample_size'\n",
      "\n",
      ". local min_leverage = r(min)\n",
      "\n",
      ". display \"Min leverage >= 1/N: \" (`min_leverage' >= `reciprocal')\n",
      "Min leverage >= 1/N: 1\n",
      "\n",
      ". \n"
     ]
    }
   ],
   "source": [
    "%%stata\n",
    "local sample_size = r(N)\n",
    "local reciprocal = 1 / `sample_size'\n",
    "local min_leverage = r(min)\n",
    "display \"Min leverage >= 1/N: \" (`min_leverage' >= `reciprocal')"
   ]
  },
  {
   "cell_type": "markdown",
   "id": "ca071081-f9c2-4cab-abfa-8325622b2caf",
   "metadata": {},
   "source": [
    "Checking that $\\sum_{i=1}^n h_{ii}=k$"
   ]
  },
  {
   "cell_type": "code",
   "execution_count": 15,
   "id": "fc3a5217",
   "metadata": {},
   "outputs": [
    {
     "name": "stdout",
     "output_type": "stream",
     "text": [
      "\n",
      ". egen total_h = total(h)\n",
      "\n",
      ". local rounded_total_h = ceil(total_h)\n",
      "\n",
      ". display \"Rounded total of h: \" `rounded_total_h'\n",
      "Rounded total of h: 262\n",
      "\n",
      ". \n"
     ]
    }
   ],
   "source": [
    "%%stata\n",
    "egen total_h = total(h)\n",
    "local rounded_total_h = ceil(total_h)\n",
    "display \"Rounded total of h: \" `rounded_total_h'"
   ]
  },
  {
   "cell_type": "markdown",
   "id": "3584c8bf-da85-439e-a2c5-8c606b66240b",
   "metadata": {},
   "source": [
    "Extracting the matrix $\\widehat{\\beta}_{(-i)}-\\widehat{\\beta}$ for the `prop_women` regressor and the LOO residuals $\\widetilde{e}_{i}$. Notice that Stata scales these parameters by their standard error."
   ]
  },
  {
   "cell_type": "code",
   "execution_count": 16,
   "id": "e27fa7ba",
   "metadata": {},
   "outputs": [
    {
     "ename": "SystemError",
     "evalue": "command cv_regress is unrecognized\nr(199);\n",
     "output_type": "error",
     "traceback": [
      "\u001b[0;31m---------------------------------------------------------------------------\u001b[0m",
      "\u001b[0;31mSystemError\u001b[0m                               Traceback (most recent call last)",
      "Cell \u001b[0;32mIn[16], line 1\u001b[0m\n\u001b[0;32m----> 1\u001b[0m get_ipython()\u001b[38;5;241m.\u001b[39mrun_cell_magic(\u001b[38;5;124m'\u001b[39m\u001b[38;5;124mstata\u001b[39m\u001b[38;5;124m'\u001b[39m, \u001b[38;5;124m'\u001b[39m\u001b[38;5;124m-qui\u001b[39m\u001b[38;5;124m'\u001b[39m, \u001b[38;5;124m'\u001b[39m\u001b[38;5;124mpredict dfbeta, dfbeta(prop_women)\u001b[39m\u001b[38;5;130;01m\\n\u001b[39;00m\u001b[38;5;124mgen double dfbeta_se = dfbeta*_se[prop_women]\u001b[39m\u001b[38;5;130;01m\\n\u001b[39;00m\u001b[38;5;124mcv_regress, generr(e_tilde)\u001b[39m\u001b[38;5;130;01m\\n\u001b[39;00m\u001b[38;5;124m'\u001b[39m)\n",
      "File \u001b[0;32m/usr/anaconda3/lib/python3.11/site-packages/IPython/core/interactiveshell.py:2541\u001b[0m, in \u001b[0;36mInteractiveShell.run_cell_magic\u001b[0;34m(self, magic_name, line, cell)\u001b[0m\n\u001b[1;32m   2539\u001b[0m \u001b[38;5;28;01mwith\u001b[39;00m \u001b[38;5;28mself\u001b[39m\u001b[38;5;241m.\u001b[39mbuiltin_trap:\n\u001b[1;32m   2540\u001b[0m     args \u001b[38;5;241m=\u001b[39m (magic_arg_s, cell)\n\u001b[0;32m-> 2541\u001b[0m     result \u001b[38;5;241m=\u001b[39m fn(\u001b[38;5;241m*\u001b[39margs, \u001b[38;5;241m*\u001b[39m\u001b[38;5;241m*\u001b[39mkwargs)\n\u001b[1;32m   2543\u001b[0m \u001b[38;5;66;03m# The code below prevents the output from being displayed\u001b[39;00m\n\u001b[1;32m   2544\u001b[0m \u001b[38;5;66;03m# when using magics with decorator @output_can_be_silenced\u001b[39;00m\n\u001b[1;32m   2545\u001b[0m \u001b[38;5;66;03m# when the last Python token in the expression is a ';'.\u001b[39;00m\n\u001b[1;32m   2546\u001b[0m \u001b[38;5;28;01mif\u001b[39;00m \u001b[38;5;28mgetattr\u001b[39m(fn, magic\u001b[38;5;241m.\u001b[39mMAGIC_OUTPUT_CAN_BE_SILENCED, \u001b[38;5;28;01mFalse\u001b[39;00m):\n",
      "File \u001b[0;32m/usr/local/stata17/utilities/pystata/ipython/stpymagic.py:274\u001b[0m, in \u001b[0;36mPyStataMagic.stata\u001b[0;34m(self, line, cell, local_ns)\u001b[0m\n\u001b[1;32m    271\u001b[0m     _config\u001b[38;5;241m.\u001b[39mset_graph_show(\u001b[38;5;28;01mFalse\u001b[39;00m)            \n\u001b[1;32m    273\u001b[0m \u001b[38;5;28;01mif\u001b[39;00m \u001b[38;5;124m'\u001b[39m\u001b[38;5;124m-qui\u001b[39m\u001b[38;5;124m'\u001b[39m \u001b[38;5;129;01min\u001b[39;00m args:\n\u001b[0;32m--> 274\u001b[0m     _stata\u001b[38;5;241m.\u001b[39mrun(cell, quietly\u001b[38;5;241m=\u001b[39m\u001b[38;5;28;01mTrue\u001b[39;00m, inline\u001b[38;5;241m=\u001b[39m_config\u001b[38;5;241m.\u001b[39mstconfig[\u001b[38;5;124m'\u001b[39m\u001b[38;5;124mgrshow\u001b[39m\u001b[38;5;124m'\u001b[39m])\n\u001b[1;32m    275\u001b[0m \u001b[38;5;28;01melse\u001b[39;00m:\n\u001b[1;32m    276\u001b[0m     _stata\u001b[38;5;241m.\u001b[39mrun(cell, quietly\u001b[38;5;241m=\u001b[39m\u001b[38;5;28;01mFalse\u001b[39;00m, inline\u001b[38;5;241m=\u001b[39m_config\u001b[38;5;241m.\u001b[39mstconfig[\u001b[38;5;124m'\u001b[39m\u001b[38;5;124mgrshow\u001b[39m\u001b[38;5;124m'\u001b[39m])\n",
      "File \u001b[0;32m/usr/local/stata17/utilities/pystata/stata.py:323\u001b[0m, in \u001b[0;36mrun\u001b[0;34m(cmd, quietly, echo, inline)\u001b[0m\n\u001b[1;32m    320\u001b[0m \u001b[38;5;124m    f.write(cmd)\u001b[39m\n\u001b[1;32m    322\u001b[0m \u001b[38;5;124mif quietly:\u001b[39m\n\u001b[0;32m--> 323\u001b[0m \u001b[38;5;124m    _stata_wrk2(\u001b[39m\u001b[38;5;124m\"\u001b[39m\u001b[38;5;124mqui include \u001b[39m\u001b[38;5;124m\"\u001b[39m\u001b[38;5;124m + tmpf, None, False, 1)\u001b[39m\n\u001b[1;32m    324\u001b[0m \u001b[38;5;124melse:\u001b[39m\n\u001b[1;32m    325\u001b[0m \u001b[38;5;124m    _stata_wrk2(\u001b[39m\u001b[38;5;124m\"\u001b[39m\u001b[38;5;124minclude \u001b[39m\u001b[38;5;124m\"\u001b[39m\u001b[38;5;124m + tmpf, None, False, 1)\u001b[39m\n",
      "File \u001b[0;32m/usr/local/stata17/utilities/pystata/stata.py:116\u001b[0m, in \u001b[0;36m_stata_wrk2\u001b[0;34m(cmd, real_cmd, colon, mode)\u001b[0m\n\u001b[1;32m    114\u001b[0m         err \u001b[38;5;241m=\u001b[39m callback[\u001b[38;5;241m0\u001b[39m]\n\u001b[1;32m    115\u001b[0m         callback\u001b[38;5;241m.\u001b[39mclear()\n\u001b[0;32m--> 116\u001b[0m         \u001b[38;5;28;01mraise\u001b[39;00m \u001b[38;5;167;01mSystemError\u001b[39;00m(err)\n\u001b[1;32m    117\u001b[0m \u001b[38;5;28;01mexcept\u001b[39;00m \u001b[38;5;167;01mKeyboardInterrupt\u001b[39;00m:\n\u001b[1;32m    118\u001b[0m     outputter\u001b[38;5;241m.\u001b[39mdone()\n",
      "\u001b[0;31mSystemError\u001b[0m: command cv_regress is unrecognized\nr(199);\n"
     ]
    }
   ],
   "source": [
    "%%stata -qui\n",
    "predict dfbeta, dfbeta(prop_women)\n",
    "gen double dfbeta_se = dfbeta*_se[prop_women]\n",
    "cv_regress, generr(e_tilde)"
   ]
  },
  {
   "cell_type": "markdown",
   "id": "494caeb2",
   "metadata": {},
   "source": [
    "We identify an observation (row 1430) for which there is a perfect fit."
   ]
  },
  {
   "cell_type": "code",
   "execution_count": null,
   "id": "177b598c",
   "metadata": {},
   "outputs": [],
   "source": [
    "%stata list FKG FKG_hat h dfbeta_se e_hat e_tilde in 1430, table separator(20)"
   ]
  },
  {
   "cell_type": "code",
   "execution_count": null,
   "id": "0a29665a",
   "metadata": {
    "scrolled": true
   },
   "outputs": [],
   "source": [
    "%%stata -fouta original,subset\n",
    "frame put dfbeta_se e_tilde, into(original)\n",
    "\n",
    "drop in 1430\n",
    "frame put dfbeta_se e_tilde, into(subset)"
   ]
  },
  {
   "cell_type": "code",
   "execution_count": null,
   "id": "c3ff920c",
   "metadata": {},
   "outputs": [],
   "source": [
    "from sfi import Data\n",
    "import numpy as np\n",
    "import pandas as pd\n",
    "dfbeta_py = subset[:,0]\n",
    "e_tilde_py = subset[:,1]"
   ]
  },
  {
   "cell_type": "markdown",
   "id": "590e6c3c-256f-487a-9479-21bfb3fb142c",
   "metadata": {},
   "source": [
    "Plotting the sets $\\{\\widehat{\\beta}_{(-i)}-\\widehat{\\beta}:i=1,\\ldots,n\\}$ and $\\{\\widetilde{e}_{i}:i=1,\\ldots,n\\}$ against their indexes $i=1,\\ldots,n$"
   ]
  },
  {
   "cell_type": "code",
   "execution_count": 17,
   "id": "53f17414-7809-45d7-a6f7-814c2fffd9f3",
   "metadata": {},
   "outputs": [
    {
     "ename": "NameError",
     "evalue": "name 'np' is not defined",
     "output_type": "error",
     "traceback": [
      "\u001b[0;31m---------------------------------------------------------------------------\u001b[0m",
      "\u001b[0;31mNameError\u001b[0m                                 Traceback (most recent call last)",
      "Cell \u001b[0;32mIn[17], line 3\u001b[0m\n\u001b[1;32m      1\u001b[0m \u001b[38;5;28;01mimport\u001b[39;00m \u001b[38;5;21;01mmatplotlib\u001b[39;00m\u001b[38;5;21;01m.\u001b[39;00m\u001b[38;5;21;01mpyplot\u001b[39;00m \u001b[38;5;28;01mas\u001b[39;00m \u001b[38;5;21;01mplt\u001b[39;00m\n\u001b[1;32m      2\u001b[0m fig, axs \u001b[38;5;241m=\u001b[39m plt\u001b[38;5;241m.\u001b[39msubplots(\u001b[38;5;241m2\u001b[39m)\n\u001b[0;32m----> 3\u001b[0m axs[\u001b[38;5;241m0\u001b[39m]\u001b[38;5;241m.\u001b[39mplot(np\u001b[38;5;241m.\u001b[39mlinspace(\u001b[38;5;241m1\u001b[39m,e_tilde_py\u001b[38;5;241m.\u001b[39msize,num\u001b[38;5;241m=\u001b[39me_tilde_py\u001b[38;5;241m.\u001b[39msize)\u001b[38;5;241m.\u001b[39mastype(\u001b[38;5;28mint\u001b[39m), dfbeta_py)\n\u001b[1;32m      4\u001b[0m axs[\u001b[38;5;241m0\u001b[39m]\u001b[38;5;241m.\u001b[39mset_title(\u001b[38;5;124mr\u001b[39m\u001b[38;5;124m'\u001b[39m\u001b[38;5;124m$\u001b[39m\u001b[38;5;124m\\\u001b[39m\u001b[38;5;124mwidehat\u001b[39m\u001b[38;5;124m{\u001b[39m\u001b[38;5;124m\\\u001b[39m\u001b[38;5;124mbeta}_\u001b[39m\u001b[38;5;124m{\u001b[39m\u001b[38;5;124m-i}-\u001b[39m\u001b[38;5;124m\\\u001b[39m\u001b[38;5;124mwidehat\u001b[39m\u001b[38;5;124m{\u001b[39m\u001b[38;5;124m\\\u001b[39m\u001b[38;5;124mbeta}$ vs $i=1,\u001b[39m\u001b[38;5;124m\\\u001b[39m\u001b[38;5;124mldots,n$\u001b[39m\u001b[38;5;124m'\u001b[39m)\n\u001b[1;32m      5\u001b[0m axs[\u001b[38;5;241m1\u001b[39m]\u001b[38;5;241m.\u001b[39mplot(np\u001b[38;5;241m.\u001b[39mlinspace(\u001b[38;5;241m1\u001b[39m,e_tilde_py\u001b[38;5;241m.\u001b[39msize,num\u001b[38;5;241m=\u001b[39me_tilde_py\u001b[38;5;241m.\u001b[39msize)\u001b[38;5;241m.\u001b[39mastype(\u001b[38;5;28mint\u001b[39m), e_tilde_py,\u001b[38;5;124m'\u001b[39m\u001b[38;5;124mtab:orange\u001b[39m\u001b[38;5;124m'\u001b[39m)\n",
      "\u001b[0;31mNameError\u001b[0m: name 'np' is not defined"
     ]
    },
    {
     "data": {
      "image/png": "[encoded data removed]",
      "text/plain": [
       "<Figure size 640x480 with 2 Axes>"
      ]
     },
     "metadata": {},
     "output_type": "display_data"
    }
   ],
   "source": [
    "import matplotlib.pyplot as plt\n",
    "fig, axs = plt.subplots(2)\n",
    "axs[0].plot(np.linspace(1,e_tilde_py.size,num=e_tilde_py.size).astype(int), dfbeta_py)\n",
    "axs[0].set_title(r'$\\widehat{\\beta}_{-i}-\\widehat{\\beta}$ vs $i=1,\\ldots,n$')\n",
    "axs[1].plot(np.linspace(1,e_tilde_py.size,num=e_tilde_py.size).astype(int), e_tilde_py,'tab:orange')\n",
    "axs[1].set_title(r'$\\widetilde{e}_{i}$ vs $i=1,\\ldots,n$')\n",
    "# Hide x labels and tick labels for top plots\n",
    "for ax in axs.flat:\n",
    "    ax.label_outer()\n"
   ]
  },
  {
   "cell_type": "markdown",
   "id": "dd904957-05a9-47f5-87d1-ce29f85fdfd8",
   "metadata": {},
   "source": [
    "The '*prediction standard error*' is:"
   ]
  },
  {
   "cell_type": "code",
   "execution_count": null,
   "id": "07c60590-6196-4a6c-bddf-378544e36fd3",
   "metadata": {},
   "outputs": [],
   "source": [
    "print(np.sqrt(np.mean(e_tilde_py**2)))"
   ]
  },
  {
   "cell_type": "markdown",
   "id": "6fdd152d-cd18-4e13-925e-e8956a81ca32",
   "metadata": {},
   "source": [
    "## Residuals"
   ]
  },
  {
   "cell_type": "code",
   "execution_count": null,
   "id": "a07662f6-549d-4fc4-9d42-3ee8b4d32b43",
   "metadata": {},
   "outputs": [],
   "source": [
    "%%stata\n",
    "gen e_bar = e_hat/sqrt(1-h)\n",
    "format e_hat e_tilde e_bar %5.4f\n",
    "list e_hat e_tilde e_bar in 1/10, table separator(20)\n",
    "summarize e_hat e_tilde e_bar"
   ]
  },
  {
   "cell_type": "markdown",
   "id": "f2507f1c-bdc5-48d3-a779-4f5cab8dc80e",
   "metadata": {},
   "source": [
    "## Covariance Matrix Estimation"
   ]
  },
  {
   "cell_type": "markdown",
   "id": "17824dc4-20d4-4ee7-af7c-aa14577d4b2c",
   "metadata": {},
   "source": [
    "**<span style=\"color:red\">Homoskedasticity:</span>**\n",
    "\n",
    "$$\n",
    "\\widehat{\\mathbf{V}}_{\\widehat{\\beta}}^{0}=\\left(\\mathbf{X}^{\\prime} \\mathbf{X}\\right)^{-1} s^{2}\n",
    "$$"
   ]
  },
  {
   "cell_type": "code",
   "execution_count": null,
   "id": "91184b64-08b5-4782-bfec-617778e11410",
   "metadata": {},
   "outputs": [],
   "source": [
    "%%stata -qui\n",
    "#delimit ;\n",
    "quietly reg FKG log_num_authors  log_num_pages both_genders prop_women\n",
    "\t\t\t`journals' `jel_imp' y_2-y_20  c_2-c_215  jel_flag;\n",
    "matrix subV = (e(V)[1,1], e(V)[1,2], e(V)[1,3], e(V)[1,4], e(V)[1,262] \\ \n",
    "               e(V)[2,1], e(V)[2,2], e(V)[2,3], e(V)[2,4], e(V)[2,262] \\ \n",
    "               e(V)[3,1], e(V)[3,2], e(V)[3,3], e(V)[3,4], e(V)[3,262] \\ \n",
    "               e(V)[4,1], e(V)[4,2], e(V)[4,3], e(V)[4,4], e(V)[4,262] \\ \n",
    "               e(V)[262,1], e(V)[262,2], e(V)[262,3], e(V)[262,4], e(V)[262,262]);\n",
    "#delimit cr"
   ]
  },
  {
   "cell_type": "code",
   "execution_count": null,
   "id": "42de21b9-8456-423b-b84f-ead5d1f80887",
   "metadata": {},
   "outputs": [],
   "source": [
    "%stata matrix list subV"
   ]
  },
  {
   "cell_type": "markdown",
   "id": "1e6bbfae-c683-4fee-8664-f255f38085a5",
   "metadata": {},
   "source": [
    "**<span style=\"color:red\">HC1:</span>** (most common in *econometrics*)\n",
    "\n",
    "$$\n",
    "\\widehat{\\mathbf{V}}_{\\widehat{\\beta}}^{\\mathrm{HCl}}=\\left(\\frac{n}{n-k}\\right)\\left(\\mathbf{X}^{\\prime} \\mathbf{X}\\right)^{-1}\\left(\\sum_{i=1}^{n} X_{i} X_{i}^{\\prime}\\widehat{e}_{i}^{2} \\right)\\left(\\mathbf{X}^{\\prime} \\mathbf{X}\\right)^{-1}\n",
    "$$\n"
   ]
  },
  {
   "cell_type": "code",
   "execution_count": null,
   "id": "15c02d54-5554-43db-8c7c-5e62a771b410",
   "metadata": {},
   "outputs": [],
   "source": [
    "%%stata -qui\n",
    "#delimit ;\n",
    "quietly reg FKG log_num_authors  log_num_pages both_genders prop_women\n",
    "\t\t\t`journals' `jel_imp' y_2-y_20  c_2-c_215  jel_flag, robust;\n",
    "matrix subV = (e(V)[1,1], e(V)[1,2], e(V)[1,3], e(V)[1,4], e(V)[1,262] \\ \n",
    "               e(V)[2,1], e(V)[2,2], e(V)[2,3], e(V)[2,4], e(V)[2,262] \\ \n",
    "               e(V)[3,1], e(V)[3,2], e(V)[3,3], e(V)[3,4], e(V)[3,262] \\ \n",
    "               e(V)[4,1], e(V)[4,2], e(V)[4,3], e(V)[4,4], e(V)[4,262] \\ \n",
    "               e(V)[262,1], e(V)[262,2], e(V)[262,3], e(V)[262,4], e(V)[262,262]);\n",
    "#delimit cr"
   ]
  },
  {
   "cell_type": "code",
   "execution_count": null,
   "id": "1d183496-f137-4b75-98f3-0b12ab6ef65d",
   "metadata": {},
   "outputs": [],
   "source": [
    "%stata matrix list subV"
   ]
  },
  {
   "cell_type": "markdown",
   "id": "b1aa8fcf-49b1-41fd-94e7-a1374e2ab0aa",
   "metadata": {},
   "source": [
    "**<span style=\"color:red\">HC2:</span>**\n",
    "\n",
    "$$\n",
    "\\widehat{\\mathbf{V}}_{\\widehat{\\beta}}^{\\mathrm{HC2}}=\\left(\\mathbf{X}^{\\prime} \\mathbf{X}\\right)^{-1}\\left(\\sum_{i=1}^{n} \\left(1-h_{i i}\\right)^{-1} X_{i}X_{i}^{\\prime}\\widehat{e}_{i}^{2} \\right)\\left(\\mathbf{X}^{\\prime} \\mathbf{X}\\right)^{-1}\n",
    "$$"
   ]
  },
  {
   "cell_type": "code",
   "execution_count": null,
   "id": "316f572e-6e20-46a5-b78c-0e3299b8bdcb",
   "metadata": {},
   "outputs": [],
   "source": [
    "%%stata -qui\n",
    "#delimit ;\n",
    "quietly reg FKG log_num_authors  log_num_pages both_genders prop_women\n",
    "\t\t\t`journals' `jel_imp' y_2-y_20  c_2-c_215  jel_flag, vce(hc2);\n",
    "matrix subV = (e(V)[1,1], e(V)[1,2], e(V)[1,3], e(V)[1,4], e(V)[1,262] \\ \n",
    "               e(V)[2,1], e(V)[2,2], e(V)[2,3], e(V)[2,4], e(V)[2,262] \\ \n",
    "               e(V)[3,1], e(V)[3,2], e(V)[3,3], e(V)[3,4], e(V)[3,262] \\ \n",
    "               e(V)[4,1], e(V)[4,2], e(V)[4,3], e(V)[4,4], e(V)[4,262] \\ \n",
    "               e(V)[262,1], e(V)[262,2], e(V)[262,3], e(V)[262,4], e(V)[262,262]);\n",
    "#delimit cr"
   ]
  },
  {
   "cell_type": "code",
   "execution_count": null,
   "id": "a5b4f1db-146b-43ef-8b13-a86a61cbde9b",
   "metadata": {},
   "outputs": [],
   "source": [
    "%stata matrix list subV"
   ]
  },
  {
   "cell_type": "markdown",
   "id": "8e181d45-6712-444a-b2f0-269643077eeb",
   "metadata": {},
   "source": [
    "**<span style=\"color:red\">HC3:</span>**\n",
    "\n",
    "$$\n",
    "\\widehat{\\mathbf{V}}_{\\widehat{\\beta}}^{\\mathrm{HC3}}=\\left(\\mathbf{X}^{\\prime} \\mathbf{X}\\right)^{-1}\\left(\\sum_{i=1}^{n}  \\left(1-h_{i i}\\right)^{-2}X_{i}X_{i}^{\\prime}\\widehat{e}_{i}^{2}  \\right)\\left(\\mathbf{X}^{\\prime} \\mathbf{X}\\right)^{-1}\n",
    "$$"
   ]
  },
  {
   "cell_type": "code",
   "execution_count": null,
   "id": "3ed80a80-d9b4-46ce-8cce-d954688007b2",
   "metadata": {},
   "outputs": [],
   "source": [
    "%%stata -qui\n",
    "#delimit ;\n",
    "quietly reg FKG log_num_authors  log_num_pages both_genders prop_women\n",
    "\t\t\t`journals' `jel_imp' y_2-y_20  c_2-c_215  jel_flag, vce(hc3);\n",
    "matrix subV = (e(V)[1,1], e(V)[1,2], e(V)[1,3], e(V)[1,4], e(V)[1,262] \\ \n",
    "               e(V)[2,1], e(V)[2,2], e(V)[2,3], e(V)[2,4], e(V)[2,262] \\ \n",
    "               e(V)[3,1], e(V)[3,2], e(V)[3,3], e(V)[3,4], e(V)[3,262] \\ \n",
    "               e(V)[4,1], e(V)[4,2], e(V)[4,3], e(V)[4,4], e(V)[4,262] \\ \n",
    "               e(V)[262,1], e(V)[262,2], e(V)[262,3], e(V)[262,4], e(V)[262,262]);\n",
    "#delimit cr"
   ]
  },
  {
   "cell_type": "code",
   "execution_count": null,
   "id": "45508876-0c24-47c4-946a-a71c0cfb5e12",
   "metadata": {},
   "outputs": [],
   "source": [
    "%stata matrix list subV"
   ]
  },
  {
   "cell_type": "markdown",
   "id": "db8b56b7-f058-475f-9849-51de30a23818",
   "metadata": {},
   "source": [
    "## Measures of Fit"
   ]
  },
  {
   "cell_type": "markdown",
   "id": "ba11ff4d-947b-448b-b75c-dcb4a4be8caa",
   "metadata": {},
   "source": [
    "**<span style=\"color:red\">R-squared:</span>**\n",
    "$$\n",
    "R^{2}=1-\\frac{\\sum_{i=1}^{n} \\widehat{e}_{i}^{2}}{\\sum_{i=1}^{n}\\left(y_{i}-\\bar{y}\\right)^{2}}\n",
    "$$"
   ]
  },
  {
   "cell_type": "code",
   "execution_count": null,
   "id": "d366415b-a51f-49bc-a354-d36c08b0a3e9",
   "metadata": {},
   "outputs": [],
   "source": [
    "from sfi import Scalar\n",
    "rsquared=Scalar.getValue('e(r2)')\n",
    "print(rsquared)"
   ]
  },
  {
   "cell_type": "markdown",
   "id": "4701cefd-606a-4f0f-8851-06715f850ceb",
   "metadata": {},
   "source": [
    "**<span style=\"color:red\">Adjusted R-squared:</span>**\n",
    "\n",
    "$$\n",
    "\\bar{R}^{2}=1-\\frac{(n-1) \\sum_{i=1}^{n} \\hat{e}_{i}^{2}}{(n-k) \\sum_{i=1}^{n}\\left(y_{i}-\\bar{y}\\right)^{2}}\n",
    "$$"
   ]
  },
  {
   "cell_type": "code",
   "execution_count": null,
   "id": "5b08831a-2149-408a-b55a-3a39b54e207e",
   "metadata": {},
   "outputs": [],
   "source": [
    "radj=Scalar.getValue('e(r2_a)')\n",
    "print(radj)"
   ]
  },
  {
   "cell_type": "markdown",
   "id": "77a4f7db-ff83-4609-810c-ecba57fe2396",
   "metadata": {},
   "source": [
    "**<span style=\"color:red\">(Alternative) R-squared:</span>**\n",
    "\n",
    "$$\n",
    "\\widetilde{R}^{2}=1-\\frac{\\sum_{i=1}^{n} \\widetilde{e}_{i}^{2}}{\\sum_{i=1}^{n}\\left(y_{i}-\\bar{y}\\right)^{2}}\n",
    "$$"
   ]
  },
  {
   "cell_type": "code",
   "execution_count": null,
   "id": "df97b6df-d13e-451a-a8bf-5f40cca0a4e0",
   "metadata": {},
   "outputs": [],
   "source": [
    "from pystata import stata\n",
    "stata.run('''\n",
    "reg FKG log_num_authors log_num_pages both_genders prop_women  ///\n",
    "\t\t\t`journals' `jel_imp' y_2-y_20  c_2-c_215  jel_flag\n",
    "''',quietly=True)\n",
    "mss=Scalar.getValue('e(mss)')\n",
    "rss=Scalar.getValue('e(rss)')\n",
    "R2_tilde = 1 - (e_tilde_py**2).sum()/(mss+rss)\n",
    "print(R2_tilde)"
   ]
  },
  {
   "cell_type": "markdown",
   "id": "f64ca3fa",
   "metadata": {},
   "source": [
    "## Clustering"
   ]
  },
  {
   "cell_type": "code",
   "execution_count": null,
   "id": "64e20e5f",
   "metadata": {},
   "outputs": [],
   "source": [
    "%%stata\n",
    "sort cluster\n",
    "list FKG log_num_authors log_num_pages both_genders prop_women cluster ///\n",
    "     in 4304/4322, table separator(20)"
   ]
  },
  {
   "cell_type": "markdown",
   "id": "bb50dc15-9d15-4706-93a0-f121d1b0861f",
   "metadata": {},
   "source": [
    "Running a regression with _robust_ standard errors"
   ]
  },
  {
   "cell_type": "code",
   "execution_count": null,
   "id": "e93ecff0-4ba9-41de-add6-e98962fae783",
   "metadata": {},
   "outputs": [],
   "source": [
    "%%stata -qui\n",
    "#delimit ;\n",
    "quietly reg FKG log_num_authors  log_num_pages both_genders prop_women\n",
    "\t\t\t`journals' `jel_imp' y_2-y_20  c_2-c_215  jel_flag, robust;\n",
    "matrix subV = (e(V)[1,1], e(V)[1,2], e(V)[1,3], e(V)[1,4], e(V)[1,262] \\ \n",
    "               e(V)[2,1], e(V)[2,2], e(V)[2,3], e(V)[2,4], e(V)[2,262] \\ \n",
    "               e(V)[3,1], e(V)[3,2], e(V)[3,3], e(V)[3,4], e(V)[3,262] \\ \n",
    "               e(V)[4,1], e(V)[4,2], e(V)[4,3], e(V)[4,4], e(V)[4,262] \\ \n",
    "               e(V)[262,1], e(V)[262,2], e(V)[262,3], e(V)[262,4], e(V)[262,262]);\n",
    "#delimit cr"
   ]
  },
  {
   "cell_type": "code",
   "execution_count": null,
   "id": "f0697876-0955-4f3f-9264-b52b84fb3dec",
   "metadata": {},
   "outputs": [],
   "source": [
    "%stata matrix list subV"
   ]
  },
  {
   "cell_type": "markdown",
   "id": "25de1faf-83ef-4e14-84ef-28772a93ee3f",
   "metadata": {},
   "source": [
    "Running a regression with _clustered_ standard errors"
   ]
  },
  {
   "cell_type": "code",
   "execution_count": null,
   "id": "edf4bf80-a583-4100-97e4-3f1afc99c8c2",
   "metadata": {},
   "outputs": [],
   "source": [
    "%%stata -qui\n",
    "#delimit ;\n",
    "quietly reg FKG log_num_authors  log_num_pages both_genders prop_women\n",
    "\t\t\t`journals' `jel_imp' y_2-y_20  c_2-c_215  jel_flag, vce(cluster cluster);\n",
    "matrix subV = (e(V)[1,1], e(V)[1,2], e(V)[1,3], e(V)[1,4], e(V)[1,262] \\ \n",
    "               e(V)[2,1], e(V)[2,2], e(V)[2,3], e(V)[2,4], e(V)[2,262] \\ \n",
    "               e(V)[3,1], e(V)[3,2], e(V)[3,3], e(V)[3,4], e(V)[3,262] \\ \n",
    "               e(V)[4,1], e(V)[4,2], e(V)[4,3], e(V)[4,4], e(V)[4,262] \\ \n",
    "               e(V)[262,1], e(V)[262,2], e(V)[262,3], e(V)[262,4], e(V)[262,262]);\n",
    "#delimit cr"
   ]
  },
  {
   "cell_type": "code",
   "execution_count": null,
   "id": "70873538-cb92-4d8b-af1c-196ef04cef5c",
   "metadata": {},
   "outputs": [],
   "source": [
    "%stata matrix list subV"
   ]
  }
 ],
 "metadata": {
  "kernelspec": {
   "display_name": "Python 3 (ipykernel)",
   "language": "python",
   "name": "python3"
  },
  "language_info": {
   "codemirror_mode": {
    "name": "ipython",
    "version": 3
   },
   "file_extension": ".py",
   "mimetype": "text/x-python",
   "name": "python",
   "nbconvert_exporter": "python",
   "pygments_lexer": "ipython3",
   "version": "3.11.0"
  }
 },
 "nbformat": 4,
 "nbformat_minor": 5
}
